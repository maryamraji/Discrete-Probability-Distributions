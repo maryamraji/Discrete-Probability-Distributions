{
 "cells": [
  {
   "cell_type": "markdown",
   "metadata": {},
   "source": [
    "<p style=\"font-size:18px;line-height:2; >In probability theory, the multinomial distribution is a generalization of the binomial distribution. For example, it models the probability of counts of each side for rolling a k-sided dice n times. For n independent trials each of which leads to a success for exactly one of k categories, with each category having a given fixed success probability, the multinomial distribution gives the probability of any particular combination of numbers of successes for the various categories.\n",
    "\n",
    "When k is 2 and n is 1, the multinomial distribution is the Bernoulli distribution. When k is 2 and n is bigger than 1, it is the binomial distribution. When k is bigger than 2 and n is 1, it is the categorical distribution.\n",
    "\n",
    "The Bernoulli distribution models the outcome of a single Bernoulli trial. In other words, it models whether flipping a (possibly biased) coin one time will result in either a success (obtaining a head) or failure (obtaining a tail). The binomial distribution generalizes this to the number of heads from performing n independent flips (Bernoulli trials) of the same coin. The multinomial distribution models the outcome of n experiments, where the outcome of each trial has a categorical distribution, such as rolling a k-sided dice n times.\n",
    "\n",
    "Let k be a fixed finite number. Mathematically, we have k possible mutually exclusive outcomes, with corresponding probabilities p1, ..., pk, and n independent trials. Since the k outcomes are mutually exclusive and one must occur we have pi ≥ 0 for i = 1, ..., k and {\\displaystyle \\sum _{i=1}^{k}p_{i}=1}\\sum_{i=1}^k p_i = 1. Then if the random variables Xi indicate the number of times outcome number i is observed over the n trials, the vector X = (X1, ..., Xk) follows a multinomial distribution with parameters n and p, where p = (p1, ..., pk). While the trials are independent, their outcomes X are dependent because they must be summed to n.</p>"
   ]
  },
  {
   "cell_type": "markdown",
   "metadata": {},
   "source": [
    "<h1 style=\"text-decoration: underline;\">Multinomial Distribution</h1>\n",
    "A multinomial distribution is the probability distribution of the outcomes from a multinomial experiment.\n",
    "\n",
    "<h3 style=\"text-decoration: underline;\">Multinomial Experiment</h3>\n",
    "A multinomial experiment is a statistical experiment that has the following properties:\n",
    "The experiment consists of n repeated trials.\n",
    "<pre>\n",
    "1.)Each trial has a discrete number of possible outcomes.\n",
    "2.)On any given trial, the probability that a particular outcome will occur is constant.\n",
    "3.)The trials are independent; that is, the outcome on one trial does not affect the outcome on other trials.\n",
    "</pre>\n",
    "\n",
    "Consider the following statistical experiment. You toss two dice three times, and record the outcome on each toss. This is a multinomial experiment because:\n",
    "\n",
    "The experiment consists of repeated trials. We toss the dice three times.\n",
    "Each trial can result in a discrete number of outcomes - 2 through 12.\n",
    "The probability of any outcome is constant; it does not change from one toss to the next.\n",
    "The trials are independent; that is, getting a particular outcome on one trial does not affect the outcome on other trials.\n",
    "\n",
    "Another example is that you are given a bag of marbles. Inside the bag are 5 red marbles, 4 white marbles, and 3 blue marbles. Calculate the probability that with 6 trials, you choose 3 marbles that are red, 1 marble that is white, and 2 marbles that are blue, replacing each marble after it is chosen.\n",
    "\n",
    "Notice that this is not a binomial experiment, since there are more than 2 possible outcomes. For binomial experiments, k=2 (2 outcomes). Therefore, we use the binomial experiment formula for problems involving heads or tails, yes or no, or success or failure(the keyword here is binary outcome for each independent trial). In this problem, there are 3 possible outcomes: red, white, or blue. \n",
    "Note: A binomial experiment is a special case of a multinomial experiment. Here is the main difference. With a binomial experiment, each trial can result in two - and only two - possible outcomes. With a multinomial experiment, each trial can have two or more possible outcomes.\n",
    "\n",
    "\n",
    "\n"
   ]
  },
  {
   "cell_type": "markdown",
   "metadata": {},
   "source": [
    "<h2 style=\"text-decoration: underline;\">Multinomial Formula.</h2> \n",
    "Suppose a multinomial experiment consists of n trials, and each trial can result in any of k possible outcomes: E1, E2, . . . , Ek. Suppose, further, that each possible outcome can occur with probabilities p1, p2, . . . , pk. Then, the probability (P) that E1 occurs n1 times, E2 occurs n2 times, . . . , and Ek occurs nk times is:\n",
    "\n",
    "P = ( n! / ( n1! * n2! * ... nk! ) )* ( p1<sup>n1</sup> * p2<sup>n2</sup> * . . . * pk<sup>nk</sup> )\n",
    "\n",
    "where n = n1 + n2 + . . . + nk.\n",
    "\n",
    "\n"
   ]
  },
  {
   "cell_type": "markdown",
   "metadata": {},
   "source": [
    "The example below illustrates how to use the multinomial formula to compute the probability of an outcome from a multinomial experiment.<sup>1</sup>\n",
    "\n",
    "Suppose we have a bowl with 10 marbles - 2 red marbles, 3 green marbles, and 5 blue marbles. We randomly select 4 marbles from the bowl, with replacement. What is the probability of selecting 2 green marbles and 2 blue marbles?\n",
    "\n",
    "Solution: To solve this problem, we apply the multinomial formula. We know the following:\n",
    "\n",
    "The experiment consists of 4 trials, so n = 4.\n",
    "The 4 trials produce 0 red marbles, 2 green marbles, and 2 blue marbles; so nred = 0, ngreen = 2, and nblue = 2.\n",
    "On any particular trial, the probability of drawing a red, green, or blue marble is 0.2, 0.3, and 0.5, respectively. Thus, pred = 0.2, pgreen = 0.3, and pblue = 0.5\n",
    "We plug these inputs into the multinomial formula, as shown below:\n",
    "\n",
    "P = ( n! / ( n1! * n2! * ... nk! ) )* ( p1<sup>n1</sup> * p2<sup>n2</sup> * . . . * pk<sup>nk</sup> )\n",
    "\n",
    "\n",
    "P = ( 4! / ( 0! * 2! * 2! ) ) * ( (0.2)<sup>0</sup> * (0.3)<sup>2</sup> * (0.5)<sup>2</sup>)\n",
    "\n",
    "P = 0.135\n",
    "\n",
    "Thus, if we draw 4 marbles with replacement from the bowl, the probability of drawing 0 red marbles, 2 green marbles, and 2 blue marbles is 0.135.\n"
   ]
  },
  {
   "cell_type": "markdown",
   "metadata": {},
   "source": [
    "In Austria, 30% of the population has a blood type of O+, 33% has A+, 12% has B+, 6% has AB+, 7% has O-, 8% has A-, 3% has B-, and 1% has AB-. If 15 Austrian citizens are chosen at random, what is the probability that 3 have a blood type of O+, 2 have A+, 3 have B+, 2 have AB+, 1 has O-, 2 have A-, 1 has B-, and 1 has AB-?<sup>2</sup>\n",
    "\n",
    "<pre>\n",
    "n=15 (15 trials)\n",
    "p1= (probability of O+)=0.30 \n",
    "p2=(probability of A+)=0.33 \n",
    "p3=(probability of B+)=0.12 \n",
    "p4=(probability of AB+)=0.06 \n",
    "p5=(probability of O-)=0.07\n",
    "p6=(probability of A-)=0.08 \n",
    "p7=(probability of B-)=0.03 \n",
    "p8=(probability of AB-)=0.01\n",
    "n1=3 (3 O+) \n",
    "n2=2 (2 A+)\n",
    "n3=3 (3 B+)\n",
    "n4=2 (2 AB+)\n",
    "n5=1 (1 O-)\n",
    "n6=2 (2 A-)\n",
    "n7=1 (1 B-)\n",
    "n8=1 (1 AB-)\n",
    "k=8 (8 possibilities)\n",
    "</pre>\n"
   ]
  },
  {
   "cell_type": "markdown",
   "metadata": {},
   "source": [
    "P = ( n! / ( n1! * n2! * ... nk! ) )* ( p1<sup>n1</sup> * p2<sup>n2</sup> * . . . * pk<sup>nk</sup> )\n",
    "\n",
    "\n",
    "P=(15! / (3!2!3!2!1!2!1!1!))×(0.30<sup>3</sup> x 0.33<sup>2</sup> x 0.12<sup>3</sup> x 0.06<sup>2</sup> x0.07<sup>1</sup> x0.08<sup>2</sup> x0.03<sup>1</sup> x0.01<sup>1</sup>\n",
    "\n",
    "P=0.000011"
   ]
  },
  {
   "cell_type": "markdown",
   "metadata": {},
   "source": [
    "Therefore, if 15 Austrian citizens are chosen at random, the probability that 3 have a blood type of O+, 2 have A+, 3 have B+, 2 have AB+, 1 has O-, 2 have A-, 1 has B-, and 1 has AB- is 0.0011%."
   ]
  },
  {
   "cell_type": "markdown",
   "metadata": {},
   "source": [
    "<h2>scipy.stats.multinomial</h2>\n",
    "<pre>\n",
    "scipy.stats.multinomial(n, p, seed=None) = <scipy.stats._multivariate.multinomial_gen object>\n",
    "A multinomial random variable.\n",
    "\n",
    "Parameters\n",
    "x: array_like\n",
    "Quantiles, with the last axis of x denoting the components.\n",
    "\n",
    "n: int\n",
    "Number of trials\n",
    "\n",
    "p: array_like\n",
    "Probability of a trial falling into each category; should sum to 1\n",
    "\n",
    "random_state: None or int or np.random.RandomState instance, optional\n",
    "If int or RandomState, use it for drawing the random variates. If None (or np.random), the global np.random state is used. Default is None.\n",
    "</pre>"
   ]
  },
  {
   "cell_type": "markdown",
   "metadata": {},
   "source": [
    "Notes\n",
    "\n",
    "n should be a positive integer. \n",
    "Each element of p should be in the interval [0,1] and the elements should sum to 1(probabilities for the events). If they do not sum to 1, the last element of the p array is not used and is replaced with the remaining probability left over from the earlier elements.\n",
    "\n",
    "Alternatively, the object may be called (as a function) to fix the n and p parameters, returning a “frozen” multinomial random variable:\n",
    "\n",
    "The probability mass function for multinomial is"
   ]
  },
  {
   "cell_type": "markdown",
   "metadata": {},
   "source": [
    "<div style='text-align:center;'>f(x) =    ( n! / x<sub>1</sub>!.....x<sub>k</sub>!) * (p<sup>x<sub>1</sub></sup>..... p<sup>x<sub>k</sub></sup>)</div>"
   ]
  },
  {
   "cell_type": "markdown",
   "metadata": {},
   "source": [
    "supported on x =(x<sub>1</sub>....x<sub>k</sub>) where each x<sub>i</sub>  is a nonnegative integer and their sum is n ."
   ]
  },
  {
   "cell_type": "markdown",
   "metadata": {},
   "source": [
    "I will use the example above:\n",
    "In Austria, 30% of the population has a blood type of O+, 33% has A+, 12% has B+, 6% has AB+, 7% has O-, 8% has A-, 3% has B-, and 1% has AB-. If 15 Austrian citizens are chosen at random, what is the probability that 3 have a blood type of O+, 2 have A+, 3 have B+, 2 have AB+, 1 has O-, 2 have A-, 1 has B-, and 1 has AB-?<sup>2</sup>\n",
    "\n",
    "<pre>\n",
    "n=15 (15 trials)\n",
    "p1= (probability of O+)=0.30 \n",
    "p2=(probability of A+)=0.33 \n",
    "p3=(probability of B+)=0.12 \n",
    "p4=(probability of AB+)=0.06 \n",
    "p5=(probability of O-)=0.07\n",
    "p6=(probability of A-)=0.08 \n",
    "p7=(probability of B-)=0.03 \n",
    "p8=(probability of AB-)=0.01\n",
    "n1=3 (3 O+) \n",
    "n2=2 (2 A+)\n",
    "n3=3 (3 B+)\n",
    "n4=2 (2 AB+)\n",
    "n5=1 (1 O-)\n",
    "n6=2 (2 A-)\n",
    "n7=1 (1 B-)\n",
    "n8=1 (1 AB-)\n",
    "k=8 (8 possibilities)\n",
    "</pre>\n"
   ]
  },
  {
   "cell_type": "code",
   "execution_count": 7,
   "metadata": {},
   "outputs": [
    {
     "data": {
      "text/plain": [
       "1.1162058001298526e-05"
      ]
     },
     "execution_count": 7,
     "metadata": {},
     "output_type": "execute_result"
    }
   ],
   "source": [
    "\n",
    "from scipy.stats import multinomial\n",
    "rv = multinomial.pmf([3,2,3,2,1,2,1,1],15, [0.3, 0.33, 0.12,0.06,0.07,0.08,0.03,0.01]) # multinomial.pmf(x,n,p)\n",
    "rv"
   ]
  },
  {
   "cell_type": "markdown",
   "metadata": {},
   "source": [
    "Same as the answer above right?"
   ]
  },
  {
   "cell_type": "markdown",
   "metadata": {},
   "source": [
    "<h2>REFERENCES</h2>\n",
    "<pre>\n",
    "1.The Statrek Blog\n",
    "2.The CK12 Foundation\n",
    "3.Scipy.stats\n",
    "</pre>"
   ]
  },
  {
   "cell_type": "code",
   "execution_count": null,
   "metadata": {},
   "outputs": [],
   "source": []
  }
 ],
 "metadata": {
  "kernelspec": {
   "display_name": "Python 3",
   "language": "python",
   "name": "python3"
  },
  "language_info": {
   "codemirror_mode": {
    "name": "ipython",
    "version": 3
   },
   "file_extension": ".py",
   "mimetype": "text/x-python",
   "name": "python",
   "nbconvert_exporter": "python",
   "pygments_lexer": "ipython3",
   "version": "3.7.1"
  }
 },
 "nbformat": 4,
 "nbformat_minor": 2
}
