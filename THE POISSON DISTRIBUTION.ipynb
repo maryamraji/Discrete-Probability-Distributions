{
 "cells": [
  {
   "cell_type": "markdown",
   "metadata": {},
   "source": [
    "<h1 style=\"color:blue;\">THE POISSON PROBABILITY DISTRIBUTION<h1>"
   ]
  },
  {
   "cell_type": "markdown",
   "metadata": {},
   "source": [
    "Mylie has been averaging 3 hits for every 10 times at bat. What is the probability that she will get exactly 2 hits in her next 5 times at bat?"
   ]
  },
  {
   "cell_type": "markdown",
   "metadata": {},
   "source": [
    "How do we go about calculating the probability for this outcome? (pause and think)  You guessed right!<br> It is a Poisson probability problem.<br>Let us get started.\n"
   ]
  },
  {
   "cell_type": "markdown",
   "metadata": {},
   "source": [
    "The Poisson Probability Distribution is a discrete probability distribution that expresses the probability of a given number of events occurring in a fixed interval of time or space if these events occur with a known constant mean rate and independently of the time since the last event.\n",
    "The Poisson distribution can also be used for the number of events in other specified intervals such as distance, area or volume."
   ]
  },
  {
   "cell_type": "markdown",
   "metadata": {},
   "source": [
    "<h2>Probability mass function</h2>\n",
    "\n",
    "The Poisson distribution is popular for modeling the number of times an event occurs in an interval of time or space.\n",
    "\n",
    "A discrete random variable X  is said to have a Poisson distribution with parameter $\\mu$ > 0, if, for k = 0, 1, 2, ..., the probability mass function of X  is given by:"
   ]
  },
  {
   "cell_type": "markdown",
   "metadata": {},
   "source": [
    "<p style=\"font:20px navy;text-align:center;\">f(k;$\\mu$)=P(X=k)= e<sup>-$\\mu$</sup>$\\mu$<sup>k</sup> / k!</p>"
   ]
  },
  {
   "cell_type": "markdown",
   "metadata": {},
   "source": [
    "where\n",
    "\n",
    "e is Euler's number (e = 2.71828...)\n",
    "k! is the factorial of k.\n",
    "The positive real number $\\mu$ is equal to the expected value of X and also to its variance\n",
    "\n",
    "<p style=\"font:20px navy;text-align:center;\">$\\mu$ =E(X)= $\\sigma$<sup>2</sup></p>\n",
    "\n",
    "The Poisson distribution can be applied to systems with a large number of possible events, each of which is rare. The number of such events that occur during a fixed time interval is, under the right circumstances, a random number with a Poisson distribution."
   ]
  },
  {
   "cell_type": "markdown",
   "metadata": {},
   "source": [
    "<h2>Assumptions and validity</h2>\n",
    "\n",
    "The Poisson distribution is an appropriate model if the following assumptions are true:\n",
    "\n",
    "1. k is the number of times an event occurs in an interval and k can take values 0, 1, 2, ....\n",
    "\n",
    "2. The occurrence of one event does not affect the probability that a second event will occur. That is, events occur independently.\n",
    "\n",
    "3. The average rate at which events occur is constant.\n",
    "\n",
    "4. Two events cannot occur at exactly the same instant; instead, at each very small sub-interval exactly one event either occurs or does not occur.\n",
    "Or\n",
    "The actual probability distribution is given by a binomial distribution and the number of trials is sufficiently bigger than the number of successes one is asking about .\n",
    "\n",
    "If these conditions are true, then k is a Poisson random variable, and the distribution of k is a Poisson distribution."
   ]
  },
  {
   "cell_type": "markdown",
   "metadata": {},
   "source": [
    "Now let us answer the question that was asked at the beginning of the notebook.\n",
    "\n",
    "Mylie has been averaging 3 hits for every 10 times at bat. What is the probability that she will get exactly 2 hits in her next 5 times at bat?\n",
    "\n",
    "Since the formula is:\n",
    "\n",
    "<p style=\"font:20px navy;text-align:center;\">f(k;$\\mu$)=P(X=k)= e<sup>-$\\mu$</sup>$\\mu$<sup>k</sup> / k!</p>\n",
    "\n",
    "where \n",
    "k= 2 hits in 5 attempts\n",
    "$\\mu$= 3 hits in 10 attempts = 1.5 hits n 5 attempts\n",
    "\n",
    "<p style=\"font:20px navy;text-align:center;\" >P(X =2)= e<sup>-1.5</sup>1.5<sup>2</sup>/2! =0.2510</p>\n"
   ]
  },
  {
   "cell_type": "markdown",
   "metadata": {},
   "source": [
    "Let us use the scipy.stats.poisson.pmf function to further driven home the concept."
   ]
  },
  {
   "cell_type": "code",
   "execution_count": 17,
   "metadata": {},
   "outputs": [],
   "source": [
    "from scipy.stats import poisson\n",
    "import matplotlib.pyplot as plt\n"
   ]
  },
  {
   "cell_type": "markdown",
   "metadata": {},
   "source": [
    "The probability mass function for poisson is:\n",
    "\n",
    "poisson.pmf(k) = exp(-mu) * mu**k / k!\n",
    "for k >= 0.\n",
    "\n",
    "poisson takes mu as shape parameter(mu is the mean/expected value /variance).\n",
    "\n",
    "The probability mass function above is defined in the “standardized” form. To shift distribution use the loc parameter. Specifically, poisson.pmf(k, mu, loc) is identically equivalent to poisson.pmf(k - loc, mu)."
   ]
  },
  {
   "cell_type": "code",
   "execution_count": 18,
   "metadata": {},
   "outputs": [
    {
     "name": "stdout",
     "output_type": "stream",
     "text": [
      "Mean=1.500,Variance=1.500\n"
     ]
    }
   ],
   "source": [
    "#Calculate a few first moments:\n",
    "\n",
    "\n",
    "mu = 1.5\n",
    "mean, var, skew, kurt = poisson.stats(mu, moments='mvsk')\n",
    "print('Mean=%.3f,Variance=%.3f'%(mean,var) )"
   ]
  },
  {
   "cell_type": "code",
   "execution_count": 19,
   "metadata": {
    "scrolled": true
   },
   "outputs": [
    {
     "data": {
      "text/plain": [
       "0.25102143016698353"
      ]
     },
     "execution_count": 19,
     "metadata": {},
     "output_type": "execute_result"
    }
   ],
   "source": [
    "#pmf(x, mu, loc=0)\tProbability mass function.\n",
    "#Use the Probability mass function to calculate P(X=2)\n",
    "p= poisson.pmf(2,1.5)\n",
    "p"
   ]
  },
  {
   "cell_type": "markdown",
   "metadata": {},
   "source": [
    "We got the same answer as above when we did it by hand.\n",
    "Let us  display  the probability mass function (pmf) for k >= 0 and < 5:"
   ]
  },
  {
   "cell_type": "code",
   "execution_count": 20,
   "metadata": {},
   "outputs": [
    {
     "data": {
      "image/png": "[encoded data removed]",
      "text/plain": [
       "<Figure size 432x288 with 1 Axes>"
      ]
     },
     "metadata": {
      "needs_background": "light"
     },
     "output_type": "display_data"
    }
   ],
   "source": [
    "import numpy as np\n",
    "fig, ax = plt.subplots(1, 1)\n",
    "x = np.arange(0,5)\n",
    "mu = 1.5\n",
    "ax.plot(x, poisson.pmf(x, mu), 'bo', ms=8, label='poisson pmf')\n",
    "ax.vlines(x, 0, poisson.pmf(x, mu), colors='b', lw=5, alpha=0.5)\n",
    "plt.show()\n",
    "\n",
    "#Freeze the distribution and display the frozen pmf:\n",
    "rv = poisson(mu)\n",
    "ax.vlines(x, 0, rv.pmf(x), colors='k', linestyles='-', lw=1,\n",
    "         label='frozen pmf')\n",
    "ax.legend(loc='best', frameon=False)\n",
    "plt.show()"
   ]
  },
  {
   "cell_type": "code",
   "execution_count": 21,
   "metadata": {},
   "outputs": [
    {
     "data": {
      "text/plain": [
       "array([0, 1, 2, 3, 4])"
      ]
     },
     "execution_count": 21,
     "metadata": {},
     "output_type": "execute_result"
    }
   ],
   "source": [
    "x"
   ]
  },
  {
   "cell_type": "code",
   "execution_count": 22,
   "metadata": {},
   "outputs": [
    {
     "data": {
      "text/plain": [
       "True"
      ]
     },
     "execution_count": 22,
     "metadata": {},
     "output_type": "execute_result"
    }
   ],
   "source": [
    "#Check accuracy of cdf and ppf:\n",
    "\n",
    "prob = poisson.cdf(x, mu)\n",
    "np.allclose(x, poisson.ppf(prob, mu))"
   ]
  },
  {
   "cell_type": "code",
   "execution_count": 23,
   "metadata": {},
   "outputs": [
    {
     "data": {
      "text/plain": [
       "[Text(0, 0.5, 'Probability'), Text(0.5, 0, 'X=No of Outcomes')]"
      ]
     },
     "execution_count": 23,
     "metadata": {},
     "output_type": "execute_result"
    },
    {
     "data": {
      "image/png": "[encoded data removed]",
      "text/plain": [
       "<Figure size 432x288 with 1 Axes>"
      ]
     },
     "metadata": {
      "needs_background": "light"
     },
     "output_type": "display_data"
    }
   ],
   "source": [
    "#Generate random numbers:\n",
    "import seaborn as sb\n",
    "r = poisson.rvs(mu, size=1000)\n",
    "ax = sb.distplot(r,\n",
    "                  kde=True,\n",
    "                  color='green',\n",
    "                  hist_kws={\"linewidth\": 25,'alpha':1})\n",
    "ax.set(xlabel='X=No of Outcomes', ylabel='Probability')\n"
   ]
  },
  {
   "cell_type": "markdown",
   "metadata": {},
   "source": [
    "<h4>Methods</h4>\n",
    "<pre>\n",
    "rvs(mu, loc=0, size=1, random_state=None)\tRandom variates.\n",
    "pmf(x, mu, loc=0)\tProbability mass function.\n",
    "logpmf(x, mu, loc=0)\tLog of the probability mass function.\n",
    "cdf(x, mu, loc=0)\tCumulative density function.\n",
    "logcdf(x, mu, loc=0)\tLog of the cumulative density function.\n",
    "sf(x, mu, loc=0)\tSurvival function (also defined as 1 - cdf, but sf is sometimes more accurate).\n",
    "logsf(x, mu, loc=0)\tLog of the survival function.\n",
    "ppf(q, mu, loc=0)\tPercent point function (inverse of cdf — percentiles).\n",
    "isf(q, mu, loc=0)\tInverse survival function (inverse of sf).\n",
    "stats(mu, loc=0, moments='mv')\tMean(‘m’), variance(‘v’), skew(‘s’), and/or kurtosis(‘k’).\n",
    "entropy(mu, loc=0)\t(Differential) entropy of the RV.\n",
    "expect(func, args=(mu,), loc=0, lb=None, ub=None, conditional=False)\tExpected value of a function (of one argument) with respect to the distribution.\n",
    "median(mu, loc=0)\tMedian of the distribution.\n",
    "mean(mu, loc=0)\tMean of the distribution.\n",
    "var(mu, loc=0)\tVariance of the distribution.\n",
    "std(mu, loc=0)\tStandard deviation of the distribution.\n",
    "interval(alpha, mu, loc=0)\tEndpoints of the range that contains alpha percent of the distribution\n",
    "</pre>"
   ]
  },
  {
   "cell_type": "markdown",
   "metadata": {},
   "source": [
    "<h3>Examples that violate the Poisson assumptions</h3>\n",
    "\n",
    "The number of students who arrive at the student union per minute will likely not follow a Poisson distribution, because the rate is not constant (low rate during class time, high rate between class times) and the arrivals of individual students are not independent (students tend to come in groups).\n",
    "\n",
    "The number of magnitude 5 earthquakes per year in a country may not follow a Poisson distribution if one large earthquake increases the probability of aftershocks of similar magnitude.\n",
    "\n",
    "Among patients admitted to the intensive care unit of a hospital, the number of days that the patients spend in the ICU is not Poisson distributed because the number of days cannot be zero. The distribution may be modeled using a Zero-truncated Poisson distribution.\n",
    "\n",
    "Count distributions in which the number of intervals with zero events is higher than predicted by a Poisson model may be modeled using a Zero-inflated model.\n",
    "\n"
   ]
  },
  {
   "cell_type": "markdown",
   "metadata": {},
   "source": [
    "<h2> References</h2>\n",
    "\n",
    "1. Haight, Frank A. (1967), Handbook of the Poisson Distribution, New York, NY, USA: John Wiley & Sons, ISBN 978-0-471-33932-8\n",
    "2. Koehrsen, William (2019-01-20), The Poisson Distribution and Poisson Process Explained, Towards Data Science, retrieved 2019-09-19\n",
    "3. Scipy stats"
   ]
  },
  {
   "cell_type": "code",
   "execution_count": null,
   "metadata": {},
   "outputs": [],
   "source": []
  }
 ],
 "metadata": {
  "kernelspec": {
   "display_name": "Python 3",
   "language": "python",
   "name": "python3"
  },
  "language_info": {
   "codemirror_mode": {
    "name": "ipython",
    "version": 3
   },
   "file_extension": ".py",
   "mimetype": "text/x-python",
   "name": "python",
   "nbconvert_exporter": "python",
   "pygments_lexer": "ipython3",
   "version": "3.7.1"
  }
 },
 "nbformat": 4,
 "nbformat_minor": 2
}
