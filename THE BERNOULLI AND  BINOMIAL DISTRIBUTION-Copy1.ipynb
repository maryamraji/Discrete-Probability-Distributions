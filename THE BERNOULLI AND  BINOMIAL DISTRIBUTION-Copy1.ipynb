{
 "cells": [
  {
   "cell_type": "markdown",
   "metadata": {},
   "source": [
    "# Probability Distributions - Binomial Distributions\n"
   ]
  },
  {
   "cell_type": "markdown",
   "metadata": {},
   "source": [
    "\n",
    "\n",
    "The probability for a discrete random variable can be summarized with a discrete probability distribution.\n",
    "\n",
    "<blockquote>Discrete probability distributions are used in machine learning, most notably in the modeling of binary and multi-class classification problems, but also in evaluating the performance for binary classification models, such as the calculation of confidence intervals, and in the modeling of the distribution of words in text for natural language processing.\n",
    "\n",
    "Knowledge of discrete probability distributions is also required in the choice of activation functions in the output layer of deep learning neural networks for classification tasks and selecting an appropriate loss function.<sup>1</sup></blockquote><br>\n",
    "\n",
    "Discrete probability distributions play an important role in applied machine learning and there are a few distributions that a practitioner must know about.\n",
    "\n",
    "In this tutorial, you will discover discrete probability distributions <b>(Bernoulli and Binomial Distribution)</b> used in machine learning.\n",
    "\n",
    "\n",
    "Let’s get started.\n"
   ]
  },
  {
   "cell_type": "markdown",
   "metadata": {},
   "source": [
    "\n",
    "<h1> Random Variables</h1>\n",
    "\n",
    "A random variable is the quantity produced by a random process.\n",
    "\n",
    "A discrete random variable is a random variable that can have one of a finite set of specific outcomes. The two types of discrete random variables most commonly used in machine learning are binary and categorical.\n",
    "\n",
    "Binary Random Variable: x in {0, 1}\n",
    "Categorical Random Variable: x in {1, 2, …, K}.\n",
    "A binary random variable is a discrete random variable where the finite set of outcomes is in {0, 1}. A categorical random variable is a discrete random variable where the finite set of outcomes is in {1, 2, …, K}, where K is the total number of unique outcomes.\n",
    "\n",
    "Each outcome or event for a discrete random variable has a probability.\n",
    "\n",
    "The relationship between the events for a discrete random variable and their probabilities is called the discrete probability distribution and is summarized by a <b>probability mass function</b>, or PMF for short.\n",
    "\n",
    "For outcomes that can be ordered, the probability of an event equal to or less than a given value is defined by the <em>cumulative distribution function</em>, or CDF for short. \n",
    "\n",
    "The inverse of the CDF is called the percentage-point function and will give the discrete outcome that is less than or equal to a probability.\n",
    "<pre>\n",
    "PMF: Probability Mass Function, returns the probability of a given outcome.\n",
    "CDF: Cumulative Distribution Function, returns the probability of a value less than or equal to a given outcome.\n",
    "PPF: Percent-Point Function, returns a discrete value that is less than or equal to the given probability.</pre>\n",
    "There are many common discrete probability distributions.\n",
    "\n",
    "The most common are the Bernoulli and Multinoulli distributions for binary and categorical discrete random variables respectively, and the Binomial and Multinomial distributions that generalize each to multiple independent trials.\n"
   ]
  },
  {
   "cell_type": "code",
   "execution_count": 3,
   "metadata": {},
   "outputs": [],
   "source": [
    "# for inline plots in jupyter\n",
    "%matplotlib inline\n",
    "# import matplotlib\n",
    "import matplotlib.pyplot as plt\n",
    "# for latex equations\n",
    "from IPython.display import Math, Latex\n",
    "# for displaying images\n",
    "from IPython.core.display import Image"
   ]
  },
  {
   "cell_type": "code",
   "execution_count": 4,
   "metadata": {},
   "outputs": [],
   "source": [
    "# import seaborn\n",
    "import seaborn as sns\n",
    "# settings for seaborn plotting style\n",
    "sns.set(color_codes=True)\n",
    "# settings for seaborn plot sizes\n",
    "sns.set(rc={'figure.figsize':(5,5)})"
   ]
  },
  {
   "cell_type": "markdown",
   "metadata": {},
   "source": [
    "<h1>Bernoulli Distribution</h1>\n",
    "\n",
    "The Bernoulli distribution is a discrete probability distribution that covers a case where an event will have a binary outcome as either a 0 or 1.<br>\n",
    "\n",
    "x in {0, 1}<br>\n",
    "\n",
    "A “Bernoulli trial” is an experiment or case where the outcome follows a Bernoulli distribution. The distribution and the trial are named after the Swiss mathematician Jacob Bernoulli.\n",
    "\n",
    "Some common examples of Bernoulli trials include:\n",
    "The single flip of a coin that may have a heads (0) or a tails (1) outcome.\n",
    "A single birth of either a boy (0) or a girl (1).\n",
    "A common example of a Bernoulli trial in machine learning might be a binary classification of a single example as the first class (0) or the second class (1).\n",
    "\n",
    "A Bernoulli distribution has only two possible outcomes, namely 1 (success) and 0 (failure), and a single trial, for example, a coin toss. So the random variable X which has a Bernoulli distribution can take value 1 with the probability of success, p, and the value 0 with the probability of failure, q or 1−p. The probabilities of success and failure need not be equally likely. The Bernoulli distribution is a special case of the binomial distribution where a single trial is conducted (n=1). \n",
    "\n",
    "The distribution can be summarized by a single variable p that defines the probability of an outcome 1. Given this parameter, the probability for each event can be calculated as follows:\n",
    "<pre>\n",
    "P(x=1) = p\n",
    "P(x=0) = 1 – p\n",
    "In the case of flipping a fair coin, the value of p would be 0.5, giving a 50% probability of each outcome.\n",
    "</pre>"
   ]
  },
  {
   "cell_type": "markdown",
   "metadata": {},
   "source": [
    "Its probability mass function is given by:"
   ]
  },
  {
   "attachments": {
    "image.png": {
     "image/png": "[encoded data removed]"
    }
   },
   "cell_type": "markdown",
   "metadata": {},
   "source": [
    "![image.png](attachment:image.png)"
   ]
  },
  {
   "cell_type": "markdown",
   "metadata": {},
   "source": [
    "\n",
    "You can generate a bernoulli distributed discrete random variable using scipy.stats module's bernoulli.rvs() method which takes p (probability of success) as a shape parameter. To shift distribution use the loc parameter. size decides the number of times to repeat the trials. If you want to maintain reproducibility, include a random_state argument assigned to a number."
   ]
  },
  {
   "cell_type": "code",
   "execution_count": 5,
   "metadata": {},
   "outputs": [],
   "source": [
    "from scipy.stats import bernoulli\n",
    "data_bern = bernoulli.rvs(size=10000,p=0.6)"
   ]
  },
  {
   "cell_type": "markdown",
   "metadata": {},
   "source": [
    "Again visulaizing the distribution, you can observe that you have only two possible outcomes:"
   ]
  },
  {
   "cell_type": "code",
   "execution_count": 6,
   "metadata": {},
   "outputs": [
    {
     "name": "stderr",
     "output_type": "stream",
     "text": [
      "C:\\Users\\user\\New folder\\lib\\site-packages\\scipy\\stats\\stats.py:1713: FutureWarning: Using a non-tuple sequence for multidimensional indexing is deprecated; use `arr[tuple(seq)]` instead of `arr[seq]`. In the future this will be interpreted as an array index, `arr[np.array(seq)]`, which will result either in an error or a different result.\n",
      "  return np.add.reduce(sorted[indexer] * weights, axis=axis) / sumval\n"
     ]
    },
    {
     "data": {
      "text/plain": [
       "[Text(0, 0.5, 'Frequency'), Text(0.5, 0, 'Bernoulli Distribution')]"
      ]
     },
     "execution_count": 6,
     "metadata": {},
     "output_type": "execute_result"
    },
    {
     "data": {
      "image/png": "[encoded data removed]",
      "text/plain": [
       "<Figure size 360x360 with 1 Axes>"
      ]
     },
     "metadata": {},
     "output_type": "display_data"
    }
   ],
   "source": [
    "ax= sns.distplot(data_bern,\n",
    "                 kde=False,\n",
    "                 color=\"skyblue\",\n",
    "                 hist_kws={\"linewidth\": 15,'alpha':1})\n",
    "ax.set(xlabel='Bernoulli Distribution', ylabel='Frequency')"
   ]
  },
  {
   "cell_type": "markdown",
   "metadata": {},
   "source": [
    "<h1>Binomial Distribution</h1>\n",
    "\n",
    "The repetition of multiple independent Bernoulli trials is called a Bernoulli process.\n",
    "\n",
    "The outcomes of a Bernoulli process will follow a Binomial distribution. As such, the Bernoulli distribution would be a Binomial distribution with a single trial.\n",
    "\n",
    "The performance of a machine learning algorithm on a binary classification problem can be analyzed as a Bernoulli process, where the prediction by the model on an example from a test set is a Bernoulli trial (correct or incorrect).\n",
    "\n",
    "The Binomial distribution summarizes the number of successes k in a given number of Bernoulli trials n, with a given probability of success for each trial p.\n",
    "\n",
    "\n",
    "A distribution where only two outcomes are possible, such as success or failure, gain or loss, win or lose and where the probability of success and failure is same for all the trials is called a <b>Binomial Distribution</b>. However, The outcomes need not be equally likely, and each trial is independent of each other. \n",
    "\n",
    "The parameters of a binomial distribution are n and p where n is the total number of trials, and p is the probability of success in each trial. Its probability distribution function is given by :\n",
    "\n",
    "\n"
   ]
  },
  {
   "attachments": {
    "image.png": {
     "image/png": "[encoded data removed]"
    }
   },
   "cell_type": "markdown",
   "metadata": {},
   "source": [
    "![image.png](attachment:image.png)"
   ]
  },
  {
   "cell_type": "markdown",
   "metadata": {},
   "source": [
    "where:"
   ]
  },
  {
   "attachments": {
    "image.png": {
     "image/png": "[encoded data removed]"
    }
   },
   "cell_type": "markdown",
   "metadata": {},
   "source": [
    "![image.png](attachment:image.png)"
   ]
  },
  {
   "cell_type": "markdown",
   "metadata": {},
   "source": [
    "<h2> Summary Of Methods for Binomial Distribution</h2>\n",
    "<pre>\n",
    "\n",
    "\n",
    "rvs(n, p, loc=0, size=1, random_state=None)---> Random variates.\n",
    "\n",
    "pmf(k, n, p, loc=0)---> Probability mass function.\n",
    "\n",
    "logpmf(k, n, p, loc=0)---> Log of the probability mass function.\n",
    "\n",
    "cdf(k, n, p, loc=0) ---> Cumulative distribution function.\n",
    "\n",
    "logcdf(k, n, p, loc=0) ---> Log of the cumulative distribution function.\n",
    "\n",
    "sf(k, n, p, loc=0) ---> Survival function (also defined as 1 - cdf, but sf is sometimes more accurate).\n",
    "\n",
    "logsf(k, n, p, loc=0) ---> Log of the survival function.\n",
    "\n",
    "ppf(q, n, p, loc=0) ---> Percent point function (inverse of cdf — percentiles).\n",
    "\n",
    "isf(q, n, p, loc=0) ---> Inverse survival function (inverse of sf).\n",
    "\n",
    "stats(n, p, loc=0, moments=’mv’) ---> Mean(‘m’), variance(‘v’), skew(‘s’), and/or kurtosis(‘k’).\n",
    "\n",
    "entropy(n, p, loc=0) ---> (Differential) entropy of the RV.\n",
    "\n",
    "expect(func, args=(n, p), loc=0, lb=None, ub=None, conditional=False) ---> Expected value of a function (of one argument) with respect to the distribution.\n",
    "\n",
    "median(n, p, loc=0) ---> Median of the distribution.\n",
    "\n",
    "mean(n, p, loc=0) ---> Mean of the distribution.\n",
    "\n",
    "var(n, p, loc=0) ---> Variance of the distribution.\n",
    "\n",
    "std(n, p, loc=0) ---> Standard deviation of the distribution.\n",
    "\n",
    "interval(alpha, n, p, loc=0) ---> Endpoints of the range that contains alpha percent of the distribution\n",
    "</pre>"
   ]
  },
  {
   "cell_type": "markdown",
   "metadata": {},
   "source": [
    "<h2> Generating Random Variables for a Binomial Distribution</h2>\n",
    "\n",
    "You can generate a binomial distributed discrete random variable using scipy.stats module's binom.rvs() method which takes n (number of trials) and p (probability of success) as shape parameters. To shift distribution use the loc parameter. size decides the number of times to repeat the trials. \n",
    "If you want to maintain reproducibility, include a random_state argument assigned to a number."
   ]
  },
  {
   "cell_type": "code",
   "execution_count": 7,
   "metadata": {},
   "outputs": [],
   "source": [
    "from scipy.stats import binom\n",
    "data_binom = binom.rvs(n=10,p=0.5,size=10000)"
   ]
  },
  {
   "cell_type": "code",
   "execution_count": 8,
   "metadata": {},
   "outputs": [
    {
     "data": {
      "text/plain": [
       "[Text(0, 0.5, 'Frequency'), Text(0.5, 0, 'Binomial Distribution')]"
      ]
     },
     "execution_count": 8,
     "metadata": {},
     "output_type": "execute_result"
    },
    {
     "data": {
      "image/png": "[encoded data removed]",
      "text/plain": [
       "<Figure size 360x360 with 1 Axes>"
      ]
     },
     "metadata": {},
     "output_type": "display_data"
    }
   ],
   "source": [
    "ax = sns.distplot(data_binom,\n",
    "                  kde=False,\n",
    "                  color='skyblue',\n",
    "                  hist_kws={\"linewidth\": 15,'alpha':1})\n",
    "ax.set(xlabel='Binomial Distribution', ylabel='Frequency')"
   ]
  },
  {
   "cell_type": "markdown",
   "metadata": {},
   "source": [
    "Alternatively, the distribution object can be called (as a function) to fix the shape and location. This returns a “frozen” RV object holding the given parameters fixed.\n",
    "\n",
    "Freeze the distribution and display the frozen pmf:"
   ]
  },
  {
   "cell_type": "code",
   "execution_count": 30,
   "metadata": {},
   "outputs": [
    {
     "data": {
      "image/png": "[encoded data removed]",
      "text/plain": [
       "<Figure size 360x360 with 1 Axes>"
      ]
     },
     "metadata": {},
     "output_type": "display_data"
    }
   ],
   "source": [
    "import numpy as np\n",
    "fig, ax = plt.subplots(1, 1)\n",
    "n=10\n",
    "p=0.5\n",
    "x = np.arange(0,11)# ppf is the inverse of cdf\n",
    "ax.plot(x, binom.pmf(x, n, p), 'bo', ms=8, label='binom pmf')\n",
    "ax.vlines(x, 0, binom.pmf(x, n, p), colors='b', lw=5, alpha=0.5)\n",
    "\n",
    "#plot the frozen binomial distribution\n",
    "rv = binom(n,p)\n",
    "ax.vlines(x, 0, rv.pmf(x), colors='k', linestyles='-', lw=1,\n",
    "        label='frozen pmf')\n",
    "\n",
    "ax.legend(loc='best', frameon=False)\n",
    "plt.show()"
   ]
  },
  {
   "cell_type": "code",
   "execution_count": 31,
   "metadata": {},
   "outputs": [
    {
     "data": {
      "text/plain": [
       "array([ 0,  1,  2,  3,  4,  5,  6,  7,  8,  9, 10])"
      ]
     },
     "execution_count": 31,
     "metadata": {},
     "output_type": "execute_result"
    }
   ],
   "source": [
    "x"
   ]
  },
  {
   "cell_type": "markdown",
   "metadata": {},
   "source": [
    "\n",
    "We can calculate the moments of this distribution, specifically the expected value or mean and the variance using the binom.stats() SciPy function."
   ]
  },
  {
   "cell_type": "markdown",
   "metadata": {},
   "source": [
    "\n",
    "$\\mu =np$ \n",
    "\n"
   ]
  },
  {
   "cell_type": "markdown",
   "metadata": {},
   "source": [
    "It is expected that 5 successes out of 10 trials would have the highest probability according to the binomial distribution above(which is also equal to the mean of the distribution)."
   ]
  },
  {
   "cell_type": "code",
   "execution_count": 32,
   "metadata": {},
   "outputs": [
    {
     "name": "stdout",
     "output_type": "stream",
     "text": [
      "Mean=5.000,Variance=2.500\n"
     ]
    }
   ],
   "source": [
    "n, p = 10, 0.5\n",
    "mean, var, skew, kurt = binom.stats(n, p, moments='mvsk')\n",
    "print('Mean=%.3f,Variance=%.3f'%(mean,var) )"
   ]
  },
  {
   "cell_type": "markdown",
   "metadata": {},
   "source": [
    "Check accuracy of cdf and ppf:"
   ]
  },
  {
   "cell_type": "code",
   "execution_count": 45,
   "metadata": {},
   "outputs": [
    {
     "data": {
      "text/plain": [
       "True"
      ]
     },
     "execution_count": 45,
     "metadata": {},
     "output_type": "execute_result"
    }
   ],
   "source": [
    "prob = binom.cdf(x, n, p)\n",
    "np.allclose(x, binom.ppf(prob, n, p))"
   ]
  },
  {
   "cell_type": "markdown",
   "metadata": {},
   "source": [
    "Lets check manually using the binom.cdf function"
   ]
  },
  {
   "cell_type": "code",
   "execution_count": 46,
   "metadata": {},
   "outputs": [
    {
     "name": "stdout",
     "output_type": "stream",
     "text": [
      "P of 0 successes in 10 trials: 0.098%\n",
      "P of 1 successes in 10 trials: 0.977%\n",
      "P of 2 successes in 10 trials: 4.395%\n",
      "P of 3 successes in 10 trials: 11.719%\n",
      "P of 4 successes in 10 trials: 20.508%\n",
      "P of 5 successes in 10 trials: 24.609%\n",
      "P of 6 successes in 10 trials: 20.508%\n",
      "P of 7 successes in 10 trials: 11.719%\n",
      "P of 8 successes in 10 trials: 4.395%\n",
      "P of 9 successes in 10 trials: 0.977%\n",
      "P of 10 successes in 10 trials: 0.098%\n"
     ]
    }
   ],
   "source": [
    "for k in range(11):\n",
    "    print('P of %d successes in 10 trials: %.3f%%' %(k, binom.pmf(k,n,p)*100))"
   ]
  },
  {
   "cell_type": "markdown",
   "metadata": {},
   "source": [
    "This could be likened to a coin toss trial where n= 10 ,success is defined as getting a head.\n",
    "The question we are asking above is \"What is the probability of getting k heads in n trials where k is 0 ,1,2....10\".\n",
    "Note that the $P(k=0) = P(k=10)$ for a fair coin where p =0.5"
   ]
  },
  {
   "cell_type": "code",
   "execution_count": 47,
   "metadata": {},
   "outputs": [
    {
     "name": "stdout",
     "output_type": "stream",
     "text": [
      "P of 0 success in 10 trials: 0.098%\n",
      "P of 1 success in 10 trials: 1.074%\n",
      "P of 2 success in 10 trials: 5.469%\n",
      "P of 3 success in 10 trials: 17.187%\n",
      "P of 4 success in 10 trials: 37.695%\n",
      "P of 5 success in 10 trials: 62.305%\n",
      "P of 6 success in 10 trials: 82.812%\n",
      "P of 7 success in 10 trials: 94.531%\n",
      "P of 8 success in 10 trials: 98.926%\n",
      "P of 9 success in 10 trials: 99.902%\n",
      "P of 10 success in 10 trials: 100.000%\n"
     ]
    }
   ],
   "source": [
    "for k in range(11):\n",
    "    print('P of %d success in 10 trials: %.3f%%' %(k, binom.cdf(k,n,p)*100))"
   ]
  },
  {
   "cell_type": "markdown",
   "metadata": {},
   "source": [
    "\n",
    "Running the code above defines the binomial distribution and calculates the probability for each number of successful outcomes using the binom.pmf function .Remember x is an array of numbers from 1 to 10 inclusive.\n",
    "\n",
    "We can see that 5 successful outcomes  has the highest probability at about 24.609%\n"
   ]
  },
  {
   "cell_type": "markdown",
   "metadata": {},
   "source": [
    "\n",
    "Given the probability of success is 50% for one trial, we would expect that a probability of 10 or fewer successes out of 10 trials to be close to 100%. We can calculate this with the cumulative distribution function, as demonstrated above.\n"
   ]
  },
  {
   "cell_type": "markdown",
   "metadata": {},
   "source": [
    "<h2>Repeating the Coin Toss experiment</h2>\n",
    "\n",
    "In the above examples, we tossed a single coin “n=10” times. That is our single experiment. Often to see how reliable our coin toss experiment is we might want to repeat the experiment multiple times( or think of throwing multiple coins). We can easily simulate multiple experiments with the option “size” in numpy.random.binomial function or scipy.binom.rvs function\n",
    "\n",
    "Let us repeat our coin toss experiment 100 times, where in each experiment we toss a fair coin 10 times. Let us ask how many heads we see in each of the 100 experiments."
   ]
  },
  {
   "cell_type": "code",
   "execution_count": 86,
   "metadata": {},
   "outputs": [],
   "source": [
    "np.random.binomial?"
   ]
  },
  {
   "cell_type": "code",
   "execution_count": 88,
   "metadata": {},
   "outputs": [
    {
     "data": {
      "text/plain": [
       "array([5, 5, 7, 3, 5, 4, 5, 5, 7, 7, 6, 6, 6, 5, 2, 2, 7, 4, 4, 5, 2, 8,\n",
       "       3, 8, 6, 7, 2, 5, 8, 6, 5, 6, 4, 6, 4, 4, 5, 2, 2, 2, 6, 2, 3, 5,\n",
       "       5, 4, 4, 7, 3, 7, 4, 5, 8, 6, 4, 8, 6, 4, 5, 5, 5, 3, 6, 4, 4, 5,\n",
       "       4, 7, 5, 3, 3, 6, 7, 3, 5, 6, 7, 2, 4, 3, 5, 4, 5, 6, 8, 3, 6, 7,\n",
       "       5, 6, 4, 2, 3, 3, 7, 8, 5, 6, 4, 5])"
      ]
     },
     "execution_count": 88,
     "metadata": {},
     "output_type": "execute_result"
    }
   ],
   "source": [
    "x= np.random.binomial(n,p,size=100)\n",
    "n=10\n",
    "p=0.5\n",
    "# let us repeat our experiment for 100 times\n",
    "size = 100\n",
    "x"
   ]
  },
  {
   "cell_type": "code",
   "execution_count": 89,
   "metadata": {},
   "outputs": [
    {
     "data": {
      "text/plain": [
       "[Text(0, 0.5, 'Frequency'), Text(0.5, 0, 'Binomial Distribution')]"
      ]
     },
     "execution_count": 89,
     "metadata": {},
     "output_type": "execute_result"
    },
    {
     "data": {
      "image/png": "[encoded data removed]",
      "text/plain": [
       "<Figure size 360x360 with 1 Axes>"
      ]
     },
     "metadata": {},
     "output_type": "display_data"
    }
   ],
   "source": [
    "ax = sns.distplot(x,\n",
    "                  kde=False,\n",
    "                  color='skyblue',\n",
    "                  hist_kws={\"linewidth\": 15,'alpha':1})\n",
    "ax.set(xlabel='Binomial Distribution', ylabel='Frequency')"
   ]
  },
  {
   "cell_type": "markdown",
   "metadata": {},
   "source": [
    "Probability of seeing x heads out of n=10 coin tosses\n",
    "We started with a simple experiment, tossing a far coin 10 times. And we repeated the experiment 100 times and measured how many successes/heads we observed. We can use the number of successes (heads) observed in many ways to understand the basics of probability. For example, we can simply count how many times we see 0 heads, 1 head, 2 heads with our fair coin toss, and so on."
   ]
  },
  {
   "cell_type": "markdown",
   "metadata": {},
   "source": [
    "We can see that, in our 100 experiments we never saw all heads and all tails with our fair coin (as the first and last element are zero). We can also see that we observe more times 4, or 5, or 6 heads. The above success counts sums to 100, our total number of experiments. We can use the observed successes to estimate the probability of getting x successes in n=10 coin tosses by dividing by 100."
   ]
  },
  {
   "cell_type": "code",
   "execution_count": 90,
   "metadata": {},
   "outputs": [
    {
     "data": {
      "text/plain": [
       "[0.0, 0.0, 0.07, 0.1, 0.22, 0.25, 0.18, 0.12, 0.03, 0.01, 0.0]"
      ]
     },
     "execution_count": 90,
     "metadata": {},
     "output_type": "execute_result"
    }
   ],
   "source": [
    "probs_100 =[sum(np.random.binomial(n,p,size=100) == i)/100 for i in range(n+1)]\n",
    "probs_100"
   ]
  },
  {
   "cell_type": "markdown",
   "metadata": {},
   "source": [
    "Let us plot the probability of x successes that we just computed."
   ]
  },
  {
   "cell_type": "code",
   "execution_count": 91,
   "metadata": {},
   "outputs": [
    {
     "data": {
      "text/plain": [
       "Text(0, 0.5, 'Probability')"
      ]
     },
     "execution_count": 91,
     "metadata": {},
     "output_type": "execute_result"
    },
    {
     "data": {
      "image/png": "[encoded data removed]",
      "text/plain": [
       "<Figure size 360x360 with 1 Axes>"
      ]
     },
     "metadata": {},
     "output_type": "display_data"
    }
   ],
   "source": [
    "plt.xticks(range(n+1))\n",
    "plt.plot(list(range(n+1)), probs_100, color='blue', marker='o')\n",
    "plt.xlabel('Number of Heads',fontsize=14)\n",
    "plt.ylabel('Probability',fontsize=14)\n"
   ]
  },
  {
   "cell_type": "markdown",
   "metadata": {},
   "source": [
    "We can see from the above plot that probability of seeing 5 heads is the highest. Note that this observation might vary depending on the realization of our random simulation."
   ]
  },
  {
   "cell_type": "markdown",
   "metadata": {},
   "source": [
    "<h2>100000 repeated experiments</h2>\n",
    "\n",
    "We know that it is a fair coin, so we would expect that if we repeat the experiment many more times we should see that probability of seeing 5 heads should be the highest.  So, let us repeat our coin toss experiment 100,000 times and compute the probability of seeing n heads like above. Also remember that the observation might vary as this is a random process."
   ]
  },
  {
   "cell_type": "code",
   "execution_count": 118,
   "metadata": {},
   "outputs": [
    {
     "data": {
      "application/vnd.jupyter.widget-view+json": {
       "model_id": "a644dcf99bcd4df89fc40d5e35f02f68",
       "version_major": 2,
       "version_minor": 0
      },
      "text/plain": [
       "interactive(children=(IntSlider(value=100, description='$\\\\nu$', max=100000, min=100, step=100), Output()), _d…"
      ]
     },
     "metadata": {},
     "output_type": "display_data"
    }
   ],
   "source": [
    "from ipywidgets import interact,IntSlider\n",
    "def plot_probab(size=100):\n",
    "    np.random.seed(42)\n",
    "    n=10\n",
    "    p=0.5\n",
    "# let us repeat our experiment for 100000 times\n",
    "\n",
    "    x=np.random.binomial(n=n, p=p, size=size)\n",
    "    probs_100= [sum(np.random.binomial(n,p,size=size) == i)/size for i in range(n+1)]\n",
    "    plt.xticks(range(n+1))\n",
    "    plt.plot(list(range(n+1)), probs_100, color='blue', marker='o')\n",
    "    plt.xlabel('Number of Heads',fontsize=14)\n",
    "    plt.ylabel('Probability',fontsize=14)\n",
    "    \n",
    "    \n",
    "size_slider = IntSlider(min=100, max=100000, step=100, value=100, description='$\\\\nu$')   \n",
    "interact(plot_probab,size=size_slider);"
   ]
  },
  {
   "cell_type": "markdown",
   "metadata": {},
   "source": [
    "Now we can see that probability of seeing 5 heads is the highest as we expected. What is neat is that even if we don’t know if the coin is fair or not, if we do repeated experiments like above and observed the number of successes, we can infer if the coin is fair or not.\n"
   ]
  },
  {
   "cell_type": "markdown",
   "metadata": {},
   "source": [
    "<h2>Tossing Biased Coins</h2>\n",
    "Let us do our experiment with biased coins. Let us say we have a coin and we suspect it is a biased coin. Let us what we can infer about how unfair the coin is by repeated experiments like before.\n",
    "\n",
    "Just as described before, let us toss the unfair coin 10 times, repeat it for 100,000 times, and count the number of successes.  Let us use the number of successes to get the probability of x successes and plot it."
   ]
  },
  {
   "cell_type": "code",
   "execution_count": 119,
   "metadata": {},
   "outputs": [
    {
     "data": {
      "application/vnd.jupyter.widget-view+json": {
       "model_id": "d140ef382e4c40038f940b35a52bbea2",
       "version_major": 2,
       "version_minor": 0
      },
      "text/plain": [
       "interactive(children=(IntSlider(value=100, description='$\\\\nu$', max=100000, min=100, step=100), Output()), _d…"
      ]
     },
     "metadata": {},
     "output_type": "display_data"
    }
   ],
   "source": [
    "def plot_probab_unfair(size=100):\n",
    "    np.random.seed(42)\n",
    "    n=10\n",
    "    p=0.7\n",
    "# let us repeat our experiment for 100000 times\n",
    "\n",
    "    x=np.random.binomial(n=n, p=p, size=size)\n",
    "    probs_100= [sum(np.random.binomial(n,p,size=size) == i)/size for i in range(n+1)]\n",
    "    plt.xticks(range(n+1))\n",
    "    plt.plot(list(range(n+1)), probs_100, color='blue', marker='o')\n",
    "    plt.xlabel('Number of Heads',fontsize=14)\n",
    "    plt.ylabel('Probability',fontsize=14)\n",
    "    \n",
    "    \n",
    "size_slider = IntSlider(min=100, max=100000, step=100, value=100, description='$\\\\nu$')   \n",
    "interact(plot_probab_unfair,size=size_slider);"
   ]
  },
  {
   "cell_type": "markdown",
   "metadata": {},
   "source": [
    "We can see from the above plot that the probability of successes is highest when the number of successes/heads is 7. Therefore, we can infer that the biased coin has probability of success p=0.7."
   ]
  },
  {
   "cell_type": "markdown",
   "metadata": {},
   "source": [
    "<h1>Application of the Binomial Distribution(Real Life Examples)</h1>\n"
   ]
  },
  {
   "cell_type": "markdown",
   "metadata": {},
   "source": [
    "A company drills 9 wild-cat oil exploration\n",
    "wells, each with an estimated probability of success of 0.1. All nine\n",
    "wells fail. What is the probability of that happening?\n",
    "\n",
    "Let's do 20,000 trials of the model, and count the number that\n",
    "generate zero positive results.\n",
    "\n"
   ]
  },
  {
   "cell_type": "code",
   "execution_count": 122,
   "metadata": {},
   "outputs": [
    {
     "data": {
      "text/plain": [
       "0.38495"
      ]
     },
     "execution_count": 122,
     "metadata": {},
     "output_type": "execute_result"
    }
   ],
   "source": [
    "sum(np.random.binomial(9, 0.1, 20000) == 0)/20000.\n",
    "# answer = 0.38885, or 38%."
   ]
  }
 ],
 "metadata": {
  "kernelspec": {
   "display_name": "Python 3",
   "language": "python",
   "name": "python3"
  },
  "language_info": {
   "codemirror_mode": {
    "name": "ipython",
    "version": 3
   },
   "file_extension": ".py",
   "mimetype": "text/x-python",
   "name": "python",
   "nbconvert_exporter": "python",
   "pygments_lexer": "ipython3",
   "version": "3.7.1"
  }
 },
 "nbformat": 4,
 "nbformat_minor": 2
}
